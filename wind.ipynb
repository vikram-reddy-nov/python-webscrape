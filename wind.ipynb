{
 "cells": [
  {
   "cell_type": "code",
   "execution_count": 73,
   "id": "0c2331d2",
   "metadata": {},
   "outputs": [],
   "source": [
    "from selenium import webdriver\n",
    "from selenium.webdriver.common.action_chains import ActionChains\n",
    "from selenium.webdriver.common.by import By\n",
    "import numpy as np\n",
    "from json import JSONEncoder\n",
    "\n",
    "# from selenium.webdriver.chrome.options import Options as ChromeOptions\n",
    "# from selenium.webdriver.firefox.options import Options as FirefoxOptions\n",
    "# from selenium.webdriver.common.by import By\n",
    "# from selenium.webdriver.common.keys import Keys\n",
    "# from bs4 import BeautifulSoup\n",
    "import time\n",
    "import json"
   ]
  },
  {
   "cell_type": "code",
   "execution_count": 74,
   "id": "01503bd4",
   "metadata": {},
   "outputs": [
    {
     "name": "stderr",
     "output_type": "stream",
     "text": [
      "C:\\Users\\WB596989\\AppData\\Local\\Temp\\ipykernel_12700\\785780279.py:8: DeprecationWarning: executable_path has been deprecated, please pass in a Service object\n",
      "  driver = webdriver.Chrome(executable_path=\"/usr/bin/chromedriver\")\n"
     ]
    },
    {
     "name": "stdout",
     "output_type": "stream",
     "text": [
      "reached 1\n",
      "reached 2\n"
     ]
    }
   ],
   "source": [
    "chrome_options = webdriver.ChromeOptions()\n",
    "login_url = 'https://sales-history.pwccmarketplace.com/login?title=pokemon'\n",
    "# url = 'https://sales-history.pwccmarketplace.com/?title=pokemon'\n",
    "xpath = '//div[@class=\"custom-x2ftu7\"]'\n",
    "\n",
    "\n",
    "def configure_chrome_driver():    \n",
    "    driver = webdriver.Chrome(executable_path=\"/usr/bin/chromedriver\")\n",
    "    return driver\n",
    "\n",
    "driver = configure_chrome_driver()\n",
    "driver.get(login_url)\n",
    "time.sleep(5)\n",
    "\n",
    "driver.find_element(By.ID, 'email').send_keys('vikram.reddy.nov@gmail.com')\n",
    "driver.find_element(By.ID, 'password').send_keys('Vikked007#pwcc')\n",
    "driver.find_element(By.CLASS_NAME, 'custom-1ujrmx').click()\n",
    "print('reached 1')\n",
    "time.sleep(5)\n",
    "print('reached 2')\n",
    "# driver.get('https://sales-history.pwccmarketplace.com/?title=pokemon'+'&yearMin=2019&yearMax=2019')\n",
    "data_1999_desc=[];\n",
    "page=0\n",
    "while(page<200):\n",
    "    driver.get('https://sales-history-api.services.pwccmarketplace.com/api/v1/sales?title=pokemon&yearMin=1999&yearMax=1999&page='+str(page)+'&size=50&sort=purchasePrice%2Cdesc')\n",
    "    time.sleep(1)\n",
    "    content = driver.find_element(By.TAG_NAME,'pre').text\n",
    "    parsed_json = json.loads(content)\n",
    "    data_1999_desc=np.append(data_1999_desc,parsed_json['_embedded']['SalesRecords'])\n",
    "    page+=1\n",
    "\n",
    "\n",
    "class NumpyArrayEncoder(JSONEncoder):\n",
    "    def default(self, obj):\n",
    "        if isinstance(obj, np.ndarray):\n",
    "            return obj.tolist()\n",
    "        return JSONEncoder.default(self, obj)\n",
    "    \n",
    "encodedNumpyData = json.dumps(data_1999_desc, cls=NumpyArrayEncoder)  # use dump() to write array into file\n",
    "\n",
    "with open ('data_1999_desc.json', 'w') as file:  \n",
    "    file.write(encodedNumpyData)        \n",
    "# driver.find_element(By.CLASS_NAME, 'chakra-input__left-element').click()\n",
    "\n",
    "\n",
    "data_1999_asc=[];\n",
    "page=0\n",
    "while(page<200):\n",
    "    driver.get('https://sales-history-api.services.pwccmarketplace.com/api/v1/sales?title=pokemon&yearMin=1999&yearMax=1999&page='+str(page)+'&size=50&sort=purchasePrice%2Casc')\n",
    "    time.sleep(1)\n",
    "    content = driver.find_element(By.TAG_NAME,'pre').text\n",
    "    parsed_json = json.loads(content)\n",
    "    data_1999_asc=np.append(data_1999_asc,parsed_json['_embedded']['SalesRecords'])\n",
    "    page+=1\n",
    "\n",
    "encodedNumpyData = json.dumps(data_1999_asc, cls=NumpyArrayEncoder)  # use dump() to write array into file\n",
    "\n",
    "with open ('data_1999_asc.json', 'w') as file:  \n",
    "    file.write(encodedNumpyData)\n"
   ]
  },
  {
   "cell_type": "code",
   "execution_count": 7,
   "id": "4eec5913",
   "metadata": {
    "scrolled": true
   },
   "outputs": [
    {
     "name": "stdout",
     "output_type": "stream",
     "text": [
      "10\n",
      "20\n",
      "30\n",
      "40\n",
      "50\n",
      "60\n",
      "70\n",
      "80\n",
      "90\n",
      "100\n",
      "110\n",
      "120\n",
      "130\n",
      "140\n",
      "150\n",
      "160\n",
      "170\n",
      "180\n",
      "190\n",
      "200\n"
     ]
    },
    {
     "ename": "NoSuchElementException",
     "evalue": "Message: no such element: Unable to locate element: {\"method\":\"css selector\",\"selector\":\".custom-1l4w6pd\"}\n  (Session info: chrome=109.0.5414.120)\nStacktrace:\nBacktrace:\n\t(No symbol) [0x01096643]\n\t(No symbol) [0x0102BE21]\n\t(No symbol) [0x00F2DA9D]\n\t(No symbol) [0x00F61342]\n\t(No symbol) [0x00F6147B]\n\t(No symbol) [0x00F98DC2]\n\t(No symbol) [0x00F7FDC4]\n\t(No symbol) [0x00F96B09]\n\t(No symbol) [0x00F7FB76]\n\t(No symbol) [0x00F549C1]\n\t(No symbol) [0x00F55E5D]\n\tGetHandleVerifier [0x0130A142+2497106]\n\tGetHandleVerifier [0x013385D3+2686691]\n\tGetHandleVerifier [0x0133BB9C+2700460]\n\tGetHandleVerifier [0x01143B10+635936]\n\t(No symbol) [0x01034A1F]\n\t(No symbol) [0x0103A418]\n\t(No symbol) [0x0103A505]\n\t(No symbol) [0x0104508B]\n\tBaseThreadInitThunk [0x768700F9+25]\n\tRtlGetAppContainerNamedObjectPath [0x77867BBE+286]\n\tRtlGetAppContainerNamedObjectPath [0x77867B8E+238]\n",
     "output_type": "error",
     "traceback": [
      "\u001b[1;31m---------------------------------------------------------------------------\u001b[0m",
      "\u001b[1;31mNoSuchElementException\u001b[0m                    Traceback (most recent call last)",
      "Cell \u001b[1;32mIn[7], line 9\u001b[0m\n\u001b[0;32m      7\u001b[0m     time\u001b[38;5;241m.\u001b[39msleep(\u001b[38;5;241m7\u001b[39m)\n\u001b[0;32m      8\u001b[0m \u001b[38;5;66;03m#     i = len(pokemons)\u001b[39;00m\n\u001b[1;32m----> 9\u001b[0m     element \u001b[38;5;241m=\u001b[39m \u001b[43mdriver\u001b[49m\u001b[38;5;241;43m.\u001b[39;49m\u001b[43mfind_element\u001b[49m\u001b[43m(\u001b[49m\u001b[43mBy\u001b[49m\u001b[38;5;241;43m.\u001b[39;49m\u001b[43mCLASS_NAME\u001b[49m\u001b[43m,\u001b[49m\u001b[43m \u001b[49m\u001b[38;5;124;43m'\u001b[39;49m\u001b[38;5;124;43mcustom-1l4w6pd\u001b[39;49m\u001b[38;5;124;43m'\u001b[39;49m\u001b[43m)\u001b[49m\n\u001b[0;32m     10\u001b[0m     actions \u001b[38;5;241m=\u001b[39m ActionChains(driver)\n\u001b[0;32m     11\u001b[0m     actions\u001b[38;5;241m.\u001b[39mmove_to_element(element)\u001b[38;5;241m.\u001b[39mperform()\n",
      "File \u001b[1;32mC:\\WBG\\Anaconda3\\envs\\aaa\\lib\\site-packages\\selenium\\webdriver\\remote\\webdriver.py:830\u001b[0m, in \u001b[0;36mWebDriver.find_element\u001b[1;34m(self, by, value)\u001b[0m\n\u001b[0;32m    827\u001b[0m     by \u001b[38;5;241m=\u001b[39m By\u001b[38;5;241m.\u001b[39mCSS_SELECTOR\n\u001b[0;32m    828\u001b[0m     value \u001b[38;5;241m=\u001b[39m \u001b[38;5;124mf\u001b[39m\u001b[38;5;124m'\u001b[39m\u001b[38;5;124m[name=\u001b[39m\u001b[38;5;124m\"\u001b[39m\u001b[38;5;132;01m{\u001b[39;00mvalue\u001b[38;5;132;01m}\u001b[39;00m\u001b[38;5;124m\"\u001b[39m\u001b[38;5;124m]\u001b[39m\u001b[38;5;124m'\u001b[39m\n\u001b[1;32m--> 830\u001b[0m \u001b[38;5;28;01mreturn\u001b[39;00m \u001b[38;5;28;43mself\u001b[39;49m\u001b[38;5;241;43m.\u001b[39;49m\u001b[43mexecute\u001b[49m\u001b[43m(\u001b[49m\u001b[43mCommand\u001b[49m\u001b[38;5;241;43m.\u001b[39;49m\u001b[43mFIND_ELEMENT\u001b[49m\u001b[43m,\u001b[49m\u001b[43m \u001b[49m\u001b[43m{\u001b[49m\u001b[38;5;124;43m\"\u001b[39;49m\u001b[38;5;124;43musing\u001b[39;49m\u001b[38;5;124;43m\"\u001b[39;49m\u001b[43m:\u001b[49m\u001b[43m \u001b[49m\u001b[43mby\u001b[49m\u001b[43m,\u001b[49m\u001b[43m \u001b[49m\u001b[38;5;124;43m\"\u001b[39;49m\u001b[38;5;124;43mvalue\u001b[39;49m\u001b[38;5;124;43m\"\u001b[39;49m\u001b[43m:\u001b[49m\u001b[43m \u001b[49m\u001b[43mvalue\u001b[49m\u001b[43m}\u001b[49m\u001b[43m)\u001b[49m[\u001b[38;5;124m\"\u001b[39m\u001b[38;5;124mvalue\u001b[39m\u001b[38;5;124m\"\u001b[39m]\n",
      "File \u001b[1;32mC:\\WBG\\Anaconda3\\envs\\aaa\\lib\\site-packages\\selenium\\webdriver\\remote\\webdriver.py:440\u001b[0m, in \u001b[0;36mWebDriver.execute\u001b[1;34m(self, driver_command, params)\u001b[0m\n\u001b[0;32m    438\u001b[0m response \u001b[38;5;241m=\u001b[39m \u001b[38;5;28mself\u001b[39m\u001b[38;5;241m.\u001b[39mcommand_executor\u001b[38;5;241m.\u001b[39mexecute(driver_command, params)\n\u001b[0;32m    439\u001b[0m \u001b[38;5;28;01mif\u001b[39;00m response:\n\u001b[1;32m--> 440\u001b[0m     \u001b[38;5;28;43mself\u001b[39;49m\u001b[38;5;241;43m.\u001b[39;49m\u001b[43merror_handler\u001b[49m\u001b[38;5;241;43m.\u001b[39;49m\u001b[43mcheck_response\u001b[49m\u001b[43m(\u001b[49m\u001b[43mresponse\u001b[49m\u001b[43m)\u001b[49m\n\u001b[0;32m    441\u001b[0m     response[\u001b[38;5;124m\"\u001b[39m\u001b[38;5;124mvalue\u001b[39m\u001b[38;5;124m\"\u001b[39m] \u001b[38;5;241m=\u001b[39m \u001b[38;5;28mself\u001b[39m\u001b[38;5;241m.\u001b[39m_unwrap_value(response\u001b[38;5;241m.\u001b[39mget(\u001b[38;5;124m\"\u001b[39m\u001b[38;5;124mvalue\u001b[39m\u001b[38;5;124m\"\u001b[39m, \u001b[38;5;28;01mNone\u001b[39;00m))\n\u001b[0;32m    442\u001b[0m     \u001b[38;5;28;01mreturn\u001b[39;00m response\n",
      "File \u001b[1;32mC:\\WBG\\Anaconda3\\envs\\aaa\\lib\\site-packages\\selenium\\webdriver\\remote\\errorhandler.py:245\u001b[0m, in \u001b[0;36mErrorHandler.check_response\u001b[1;34m(self, response)\u001b[0m\n\u001b[0;32m    243\u001b[0m         alert_text \u001b[38;5;241m=\u001b[39m value[\u001b[38;5;124m\"\u001b[39m\u001b[38;5;124malert\u001b[39m\u001b[38;5;124m\"\u001b[39m]\u001b[38;5;241m.\u001b[39mget(\u001b[38;5;124m\"\u001b[39m\u001b[38;5;124mtext\u001b[39m\u001b[38;5;124m\"\u001b[39m)\n\u001b[0;32m    244\u001b[0m     \u001b[38;5;28;01mraise\u001b[39;00m exception_class(message, screen, stacktrace, alert_text)  \u001b[38;5;66;03m# type: ignore[call-arg]  # mypy is not smart enough here\u001b[39;00m\n\u001b[1;32m--> 245\u001b[0m \u001b[38;5;28;01mraise\u001b[39;00m exception_class(message, screen, stacktrace)\n",
      "\u001b[1;31mNoSuchElementException\u001b[0m: Message: no such element: Unable to locate element: {\"method\":\"css selector\",\"selector\":\".custom-1l4w6pd\"}\n  (Session info: chrome=109.0.5414.120)\nStacktrace:\nBacktrace:\n\t(No symbol) [0x01096643]\n\t(No symbol) [0x0102BE21]\n\t(No symbol) [0x00F2DA9D]\n\t(No symbol) [0x00F61342]\n\t(No symbol) [0x00F6147B]\n\t(No symbol) [0x00F98DC2]\n\t(No symbol) [0x00F7FDC4]\n\t(No symbol) [0x00F96B09]\n\t(No symbol) [0x00F7FB76]\n\t(No symbol) [0x00F549C1]\n\t(No symbol) [0x00F55E5D]\n\tGetHandleVerifier [0x0130A142+2497106]\n\tGetHandleVerifier [0x013385D3+2686691]\n\tGetHandleVerifier [0x0133BB9C+2700460]\n\tGetHandleVerifier [0x01143B10+635936]\n\t(No symbol) [0x01034A1F]\n\t(No symbol) [0x0103A418]\n\t(No symbol) [0x0103A505]\n\t(No symbol) [0x0104508B]\n\tBaseThreadInitThunk [0x768700F9+25]\n\tRtlGetAppContainerNamedObjectPath [0x77867BBE+286]\n\tRtlGetAppContainerNamedObjectPath [0x77867B8E+238]\n"
     ]
    }
   ],
   "source": [
    "\n",
    "try:\n",
    "    i=1\n",
    "    while(True):\n",
    "    #     pokemons = driver.find_elements_by_xpath('//div[@class=\"custom-x2ftu7\"]')\n",
    "        if i%10 == 0:\n",
    "            print(i)\n",
    "    #     print(len(pokemons))\n",
    "        time.sleep(7)\n",
    "    #     i = len(pokemons)\n",
    "        element = driver.find_element(By.CLASS_NAME, 'custom-1l4w6pd')\n",
    "        actions = ActionChains(driver)\n",
    "        actions.move_to_element(element).perform()\n",
    "        i+=1\n",
    "catch:"
   ]
  },
  {
   "cell_type": "code",
   "execution_count": 4,
   "id": "e5bb5db2",
   "metadata": {
    "scrolled": true
   },
   "outputs": [
    {
     "name": "stdout",
     "output_type": "stream",
     "text": [
      "0\n"
     ]
    }
   ],
   "source": [
    "save_data = []\n",
    "pokemons = driver.find_elements('xpath','//div[@class=\"custom-x2ftu7\"]')\n",
    "print(len(pokemons))\n",
    "\n"
   ]
  },
  {
   "cell_type": "code",
   "execution_count": null,
   "id": "e2915c24",
   "metadata": {},
   "outputs": [],
   "source": [
    "for idx, pokemon in enumerate(pokemons):\n",
    "    \n",
    "    if idx%100 == 0:\n",
    "        print(idx)\n",
    "#     else:\n",
    "#         print (“The number is not divisible.”)\n",
    "    \n",
    "# for pokemon in pokemons:\n",
    "#     print(person)\n",
    "    title = pokemon.find_element(By.CLASS_NAME, 'custom-y4x9ed').text\n",
    "    sold_date = pokemon.find_element(By.CLASS_NAME, 'custom-1aq0h2g').text\n",
    "    sold_price = pokemon.find_element(By.CLASS_NAME, 'custom-1iomzz5').text\n",
    "    auction_type = pokemon.find_element(By.CLASS_NAME, 'custom-1ousq9y').text\n",
    "    payment_status = pokemon.find_element(By.CLASS_NAME, 'custom-uazy06').text\n",
    "    buyers_premium = pokemon.find_element(By.CLASS_NAME, 'custom-yvdzps').text\n",
    "    pokemon_url = pokemon.find_elements(By.TAG_NAME,'a')[0].get_attribute('href')\n",
    "    each_obj = {'title':title,'sold_date':sold_date, 'sold_price':sold_price, 'auction_type':auction_type,'payment_status':payment_status,'buyers_premium':buyers_premium,'pokemon_url':pokemon_url}\n",
    "    save_data.append(each_obj)\n",
    "\n",
    "    \n",
    "import json\n",
    "with open ('2013-15.json', 'w') as file:  \n",
    "    file.write(json.dumps(save_data))    \n",
    "    \n",
    "#     each url image  ===> custom-57bysn"
   ]
  },
  {
   "cell_type": "code",
   "execution_count": null,
   "id": "b4888bb1",
   "metadata": {},
   "outputs": [],
   "source": [
    "from selenium import webdriver\n",
    "from selenium.webdriver.common.action_chains import ActionChains\n",
    "from selenium.webdriver.common.by import By\n",
    "import numpy as np\n",
    "from json import JSONEncoder\n",
    "\n",
    "# from selenium.webdriver.chrome.options import Options as ChromeOptions\n",
    "# from selenium.webdriver.firefox.options import Options as FirefoxOptions\n",
    "# from selenium.webdriver.common.by import By\n",
    "# from selenium.webdriver.common.keys import Keys\n",
    "# from bs4 import BeautifulSoup\n",
    "import time\n",
    "import json\n",
    "\n",
    "\n",
    "chrome_options = webdriver.ChromeOptions()\n",
    "login_url = 'https://sales-history.pwccmarketplace.com/login?title=pokemon'\n",
    "# url = 'https://sales-history.pwccmarketplace.com/?title=pokemon'\n",
    "xpath = '//div[@class=\"custom-x2ftu7\"]'\n",
    "\n",
    "\n",
    "def configure_chrome_driver():    \n",
    "    driver = webdriver.Chrome(executable_path=\"/usr/bin/chromedriver\")\n",
    "    return driver\n",
    "\n",
    "driver = configure_chrome_driver()\n",
    "driver.get(login_url)\n",
    "time.sleep(5)\n",
    "\n",
    "driver.find_element(By.ID, 'email').send_keys('vikram.reddy.nov@gmail.com')\n",
    "driver.find_element(By.ID, 'password').send_keys('Vikked007#pwcc')\n",
    "driver.find_element(By.CLASS_NAME, 'custom-1ujrmx').click()\n",
    "print('reached 1')\n",
    "time.sleep(5)\n",
    "print('reached 2')\n",
    "# driver.get('https://sales-history.pwccmarketplace.com/?title=pokemon'+'&yearMin=2019&yearMax=2019')\n",
    "data_2021_desc=[];\n",
    "page=0\n",
    "while(page<92):\n",
    "    driver.get('https://sales-history-api.services.pwccmarketplace.com/api/v1/sales?title=pokemon&yearMin=2021&yearMax=2021&page='+str(page)+'&size=50&sort=purchasePrice%2Cdesc')\n",
    "    time.sleep(1)\n",
    "    content = driver.find_element(By.TAG_NAME,'pre').text\n",
    "    parsed_json = json.loads(content)\n",
    "    print(parsed_json['_embedded']['SalesRecords'])\n",
    "    data_2021_desc=np.append(data_2021_desc,parsed_json['_embedded']['SalesRecords'])\n",
    "    page+=1\n",
    "\n",
    "\n",
    "class NumpyArrayEncoder(JSONEncoder):\n",
    "    def default(self, obj):\n",
    "        if isinstance(obj, np.ndarray):\n",
    "            return obj.tolist()\n",
    "        return JSONEncoder.default(self, obj)\n",
    "    \n",
    "encodedNumpyData = json.dumps(data_2021_desc, cls=NumpyArrayEncoder)  # use dump() to write array into file\n",
    "\n",
    "with open ('data_2021_desc.json', 'w') as file:  \n",
    "    file.write(encodedNumpyData)        \n",
    "# driver.find_element(By.CLASS_NAME, 'chakra-input__left-element').click()\n",
    "\n",
    "\n",
    "# data_2020_asc=[];\n",
    "# page=0\n",
    "# while(page<14):\n",
    "#     driver.get('https://sales-history-api.services.pwccmarketplace.com/api/v1/sales?title=pokemon&yearMin=2019&yearMax=2019&page='+str(page)+'&size=50&sort=purchasePrice%2Casc')\n",
    "#     time.sleep(1)\n",
    "#     content = driver.find_element(By.TAG_NAME,'pre').text\n",
    "#     parsed_json = json.loads(content)\n",
    "#     data_2020_asc=np.append(data_2020_asc,parsed_json['_embedded']['SalesRecords'])\n",
    "#     page+=1\n",
    "\n",
    "# encodedNumpyData = json.dumps(data_2020_asc, cls=NumpyArrayEncoder)  # use dump() to write array into file\n",
    "\n",
    "# with open ('data_2020_asc.json', 'w') as file:  \n",
    "#     file.write(encodedNumpyData)\n"
   ]
  },
  {
   "cell_type": "code",
   "execution_count": null,
   "id": "5aceee19",
   "metadata": {},
   "outputs": [],
   "source": []
  }
 ],
 "metadata": {
  "kernelspec": {
   "display_name": "Python 3 (ipykernel)",
   "language": "python",
   "name": "python3"
  },
  "language_info": {
   "codemirror_mode": {
    "name": "ipython",
    "version": 3
   },
   "file_extension": ".py",
   "mimetype": "text/x-python",
   "name": "python",
   "nbconvert_exporter": "python",
   "pygments_lexer": "ipython3",
   "version": "3.10.9"
  }
 },
 "nbformat": 4,
 "nbformat_minor": 5
}
