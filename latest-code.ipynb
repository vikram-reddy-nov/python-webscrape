{
 "cells": [
  {
   "cell_type": "code",
   "execution_count": 10,
   "id": "e51c6217",
   "metadata": {},
   "outputs": [
    {
     "name": "stderr",
     "output_type": "stream",
     "text": [
      "C:\\Users\\WB596989\\AppData\\Local\\Temp\\ipykernel_1740\\2552510700.py:10: DeprecationWarning: executable_path has been deprecated, please pass in a Service object\n",
      "  driver = webdriver.Chrome(executable_path=\"/usr/bin/chromedriver\")\n"
     ]
    },
    {
     "name": "stdout",
     "output_type": "stream",
     "text": [
      "reached before sleep\n",
      "reached after sleep\n"
     ]
    }
   ],
   "source": [
    "from selenium import webdriver\n",
    "from selenium.webdriver.common.action_chains import ActionChains\n",
    "from selenium.webdriver.common.by import By\n",
    "import time\n",
    "chrome_options = webdriver.ChromeOptions()\n",
    "login_url = 'https://sales-history.pwccmarketplace.com/login?title=pokemon'\n",
    "xpath = '//div[@class=\"custom-x2ftu7\"]'\n",
    "\n",
    "def configure_chrome_driver():    \n",
    "    driver = webdriver.Chrome(executable_path=\"/usr/bin/chromedriver\")\n",
    "    return driver\n",
    "\n",
    "driver = configure_chrome_driver()\n",
    "driver.get(login_url)\n",
    "time.sleep(5)\n",
    "\n",
    "driver.find_element(By.ID, 'email').send_keys('vikram.reddy.nov@gmail.com')\n",
    "driver.find_element(By.ID, 'password').send_keys('Vikked007#pwcc')\n",
    "driver.find_element(By.CLASS_NAME, 'custom-1ujrmx').click()\n",
    "print('reached before sleep')\n",
    "time.sleep(10)\n",
    "print('reached after sleep')\n",
    "driver.get('https://sales-history.pwccmarketplace.com/?title=pokemon'+'&yearMin=2021&yearMax=2021')\n",
    "driver.find_element(By.CLASS_NAME, 'chakra-input__left-element').click()\n"
   ]
  },
  {
   "cell_type": "code",
   "execution_count": 11,
   "id": "6cb277ea",
   "metadata": {},
   "outputs": [
    {
     "name": "stdout",
     "output_type": "stream",
     "text": [
      "10\n",
      "20\n",
      "30\n",
      "40\n",
      "50\n",
      "60\n",
      "70\n",
      "80\n",
      "90\n",
      "An exception occurred\n"
     ]
    }
   ],
   "source": [
    "try:\n",
    "    i=1\n",
    "    while(True):\n",
    "        if i%10 == 0:\n",
    "            print(i)\n",
    "        time.sleep(5)\n",
    "        element = driver.find_element(By.CLASS_NAME, 'custom-1l4w6pd')\n",
    "        actions = ActionChains(driver)\n",
    "        actions.move_to_element(element).perform()\n",
    "        i+=1\n",
    "except:\n",
    "  print(\"An exception occurred\")"
   ]
  },
  {
   "cell_type": "code",
   "execution_count": null,
   "id": "4f6db4cf",
   "metadata": {},
   "outputs": [],
   "source": [
    "save_data = []\n",
    "pokemons = driver.find_elements('xpath','//div[@class=\"custom-x2ftu7\"]')\n",
    "print(len(pokemons))\n",
    "\n",
    "for idx, pokemon in enumerate(pokemons):\n",
    "    \n",
    "    if idx%100 == 0:\n",
    "        print(idx)\n",
    "    title = pokemon.find_element(By.CLASS_NAME, 'custom-y4x9ed').text\n",
    "    sold_date = pokemon.find_element(By.CLASS_NAME, 'custom-1aq0h2g').text\n",
    "    sold_price = pokemon.find_element(By.CLASS_NAME, 'custom-1iomzz5').text\n",
    "    auction_type = pokemon.find_element(By.CLASS_NAME, 'custom-1ousq9y').text\n",
    "    payment_status = pokemon.find_element(By.CLASS_NAME, 'custom-uazy06').text\n",
    "    buyers_premium = pokemon.find_element(By.CLASS_NAME, 'custom-yvdzps').text\n",
    "    pokemon_url = pokemon.find_elements(By.TAG_NAME,'a')[0].get_attribute('href')\n",
    "    each_obj = {'title':title,'sold_date':sold_date, 'sold_price':sold_price, 'auction_type':auction_type,'payment_status':payment_status,'buyers_premium':buyers_premium,'pokemon_url':pokemon_url}\n",
    "    save_data.append(each_obj)\n",
    "\n",
    "    \n",
    "import json\n",
    "with open ('2021.json', 'w') as file:  \n",
    "    file.write(json.dumps(save_data))\n",
    "driver.close()"
   ]
  },
  {
   "cell_type": "code",
   "execution_count": 7,
   "id": "c7c21af4",
   "metadata": {},
   "outputs": [
    {
     "name": "stderr",
     "output_type": "stream",
     "text": [
      "C:\\Users\\WB596989\\AppData\\Local\\Temp\\ipykernel_1740\\261499601.py:10: DeprecationWarning: executable_path has been deprecated, please pass in a Service object\n",
      "  driver = webdriver.Chrome(executable_path=\"/usr/bin/chromedriver\")\n"
     ]
    },
    {
     "name": "stdout",
     "output_type": "stream",
     "text": [
      "reached before sleep\n",
      "reached after sleep\n"
     ]
    }
   ],
   "source": [
    "from selenium import webdriver\n",
    "from selenium.webdriver.common.action_chains import ActionChains\n",
    "from selenium.webdriver.common.by import By\n",
    "import time\n",
    "chrome_options = webdriver.ChromeOptions()\n",
    "login_url = 'https://sales-history.pwccmarketplace.com/login?title=pokemon'\n",
    "xpath = '//div[@class=\"custom-x2ftu7\"]'\n",
    "\n",
    "def configure_chrome_driver():    \n",
    "    driver = webdriver.Chrome(executable_path=\"/usr/bin/chromedriver\")\n",
    "    return driver\n",
    "\n",
    "driver = configure_chrome_driver()\n",
    "driver.get(login_url)\n",
    "time.sleep(5)\n",
    "\n",
    "driver.find_element(By.ID, 'email').send_keys('vikram.reddy.nov@gmail.com')\n",
    "driver.find_element(By.ID, 'password').send_keys('Vikked007#pwcc')\n",
    "driver.find_element(By.CLASS_NAME, 'custom-1ujrmx').click()\n",
    "print('reached before sleep')\n",
    "time.sleep(10)\n",
    "print('reached after sleep')\n",
    "driver.get('https://sales-history.pwccmarketplace.com/?title=pokemon'+'&yearMin=2019&yearMax=2019')\n",
    "time.sleep(10)\n",
    "driver.find_element(By.CLASS_NAME, 'chakra-input__left-element').click()\n"
   ]
  },
  {
   "cell_type": "code",
   "execution_count": 8,
   "id": "a91375d6",
   "metadata": {},
   "outputs": [
    {
     "name": "stdout",
     "output_type": "stream",
     "text": [
      "10\n",
      "20\n",
      "30\n",
      "40\n",
      "50\n",
      "60\n",
      "70\n",
      "80\n",
      "90\n",
      "100\n",
      "110\n",
      "120\n",
      "130\n",
      "140\n",
      "150\n",
      "160\n",
      "170\n",
      "180\n",
      "190\n",
      "200\n",
      "Message: no such element: Unable to locate element: {\"method\":\"css selector\",\"selector\":\".custom-1l4w6pd\"}\n",
      "  (Session info: chrome=109.0.5414.120)\n",
      "Stacktrace:\n",
      "Backtrace:\n",
      "\t(No symbol) [0x01096643]\n",
      "\t(No symbol) [0x0102BE21]\n",
      "\t(No symbol) [0x00F2DA9D]\n",
      "\t(No symbol) [0x00F61342]\n",
      "\t(No symbol) [0x00F6147B]\n",
      "\t(No symbol) [0x00F98DC2]\n",
      "\t(No symbol) [0x00F7FDC4]\n",
      "\t(No symbol) [0x00F96B09]\n",
      "\t(No symbol) [0x00F7FB76]\n",
      "\t(No symbol) [0x00F549C1]\n",
      "\t(No symbol) [0x00F55E5D]\n",
      "\tGetHandleVerifier [0x0130A142+2497106]\n",
      "\tGetHandleVerifier [0x013385D3+2686691]\n",
      "\tGetHandleVerifier [0x0133BB9C+2700460]\n",
      "\tGetHandleVerifier [0x01143B10+635936]\n",
      "\t(No symbol) [0x01034A1F]\n",
      "\t(No symbol) [0x0103A418]\n",
      "\t(No symbol) [0x0103A505]\n",
      "\t(No symbol) [0x0104508B]\n",
      "\tBaseThreadInitThunk [0x768700F9+25]\n",
      "\tRtlGetAppContainerNamedObjectPath [0x77867BBE+286]\n",
      "\tRtlGetAppContainerNamedObjectPath [0x77867B8E+238]\n",
      "\n"
     ]
    }
   ],
   "source": [
    "try:\n",
    "    i=1\n",
    "    while(i<10100):\n",
    "        if i%10 == 0:\n",
    "            print(i)\n",
    "        time.sleep(10)\n",
    "        element = driver.find_element(By.CLASS_NAME, 'custom-1l4w6pd')\n",
    "        actions = ActionChains(driver)\n",
    "        actions.move_to_element(element).perform()\n",
    "        i+=1\n",
    "except Exception as e:\n",
    "  print(e)"
   ]
  },
  {
   "cell_type": "code",
   "execution_count": 9,
   "id": "03af97a6",
   "metadata": {},
   "outputs": [
    {
     "name": "stdout",
     "output_type": "stream",
     "text": [
      "0\n"
     ]
    }
   ],
   "source": [
    "save_data = []\n",
    "pokemons = driver.find_elements('xpath','//div[@class=\"custom-x2ftu7\"]')\n",
    "print(len(pokemons))\n",
    "\n",
    "for idx, pokemon in enumerate(pokemons):\n",
    "    \n",
    "    if idx%100 == 0:\n",
    "        print(idx)\n",
    "    title = pokemon.find_element(By.CLASS_NAME, 'custom-y4x9ed').text\n",
    "    sold_date = pokemon.find_element(By.CLASS_NAME, 'custom-1aq0h2g').text\n",
    "    sold_price = pokemon.find_element(By.CLASS_NAME, 'custom-1iomzz5').text\n",
    "    auction_type = pokemon.find_element(By.CLASS_NAME, 'custom-1ousq9y').text\n",
    "    payment_status = pokemon.find_element(By.CLASS_NAME, 'custom-uazy06').text\n",
    "    buyers_premium = pokemon.find_element(By.CLASS_NAME, 'custom-yvdzps').text\n",
    "    pokemon_url = pokemon.find_elements(By.TAG_NAME,'a')[0].get_attribute('href')\n",
    "    each_obj = {'title':title,'sold_date':sold_date, 'sold_price':sold_price, 'auction_type':auction_type,'payment_status':payment_status,'buyers_premium':buyers_premium,'pokemon_url':pokemon_url}\n",
    "    save_data.append(each_obj)\n",
    "\n",
    "    \n",
    "import json\n",
    "with open ('2019.json', 'w') as file:  \n",
    "    file.write(json.dumps(save_data))\n"
   ]
  },
  {
   "cell_type": "code",
   "execution_count": 16,
   "id": "54d4fb6f",
   "metadata": {},
   "outputs": [],
   "source": [
    "driver.close()"
   ]
  },
  {
   "cell_type": "code",
   "execution_count": 16,
   "id": "1cdfd584",
   "metadata": {},
   "outputs": [
    {
     "name": "stderr",
     "output_type": "stream",
     "text": [
      "C:\\Users\\WB596989\\AppData\\Local\\Temp\\ipykernel_1740\\1146666087.py:23: DeprecationWarning: executable_path has been deprecated, please pass in a Service object\n",
      "  driver = webdriver.Chrome(executable_path=\"/usr/bin/chromedriver\")\n"
     ]
    },
    {
     "name": "stdout",
     "output_type": "stream",
     "text": [
      "reached 1\n",
      "reached 2\n"
     ]
    }
   ],
   "source": [
    "from selenium import webdriver\n",
    "from selenium.webdriver.common.action_chains import ActionChains\n",
    "from selenium.webdriver.common.by import By\n",
    "import numpy as np\n",
    "from json import JSONEncoder\n",
    "\n",
    "# from selenium.webdriver.chrome.options import Options as ChromeOptions\n",
    "# from selenium.webdriver.firefox.options import Options as FirefoxOptions\n",
    "# from selenium.webdriver.common.by import By\n",
    "# from selenium.webdriver.common.keys import Keys\n",
    "# from bs4 import BeautifulSoup\n",
    "import time\n",
    "import json\n",
    "\n",
    "\n",
    "chrome_options = webdriver.ChromeOptions()\n",
    "login_url = 'https://sales-history.pwccmarketplace.com/login?title=pokemon'\n",
    "# url = 'https://sales-history.pwccmarketplace.com/?title=pokemon'\n",
    "xpath = '//div[@class=\"custom-x2ftu7\"]'\n",
    "\n",
    "\n",
    "def configure_chrome_driver():    \n",
    "    driver = webdriver.Chrome(executable_path=\"/usr/bin/chromedriver\")\n",
    "    return driver\n",
    "\n",
    "driver = configure_chrome_driver()\n",
    "driver.get(login_url)\n",
    "time.sleep(5)\n",
    "\n",
    "driver.find_element(By.ID, 'email').send_keys('vikram.reddy.nov@gmail.com')\n",
    "driver.find_element(By.ID, 'password').send_keys('Vikked007#pwcc')\n",
    "driver.find_element(By.CLASS_NAME, 'custom-1ujrmx').click()\n",
    "print('reached 1')\n",
    "time.sleep(5)\n",
    "print('reached 2')\n",
    "# driver.get('https://sales-history.pwccmarketplace.com/?title=pokemon'+'&yearMin=2019&yearMax=2019')\n",
    "data_2000_desc=[];\n",
    "page=0\n",
    "while(page<200):\n",
    "    driver.get('https://sales-history-api.services.pwccmarketplace.com/api/v1/sales?title=pokemon&yearMin=2000&yearMax=2000&page='+str(page)+'&size=50&sort=purchasePrice%2Cdesc')\n",
    "    time.sleep(1)\n",
    "    content = driver.find_element(By.TAG_NAME,'pre').text\n",
    "    parsed_json = json.loads(content)\n",
    "    data_2000_desc=np.append(data_2000_desc,parsed_json['_embedded']['SalesRecords'])\n",
    "    page+=1\n",
    "\n",
    "\n",
    "class NumpyArrayEncoder(JSONEncoder):\n",
    "    def default(self, obj):\n",
    "        if isinstance(obj, np.ndarray):\n",
    "            return obj.tolist()\n",
    "        return JSONEncoder.default(self, obj)\n",
    "    \n",
    "encodedNumpyData = json.dumps(data_2000_desc, cls=NumpyArrayEncoder)  # use dump() to write array into file\n",
    "\n",
    "with open ('data_2000_desc.json', 'w') as file:  \n",
    "    file.write(encodedNumpyData)        \n",
    "# driver.find_element(By.CLASS_NAME, 'chakra-input__left-element').click()\n",
    "\n",
    "data_2000_asc=[];\n",
    "page=0\n",
    "while(page<200):\n",
    "    driver.get('https://sales-history-api.services.pwccmarketplace.com/api/v1/sales?title=pokemon&yearMin=2000&yearMax=2000&page='+str(page)+'&size=50&sort=purchasePrice%2Casc')\n",
    "    time.sleep(1)\n",
    "    content = driver.find_element(By.TAG_NAME,'pre').text\n",
    "    parsed_json = json.loads(content)\n",
    "    data_2000_asc=np.append(data_2000_asc,parsed_json['_embedded']['SalesRecords'])\n",
    "    page+=1\n",
    "\n",
    "encodedNumpyData = json.dumps(data_2000_asc, cls=NumpyArrayEncoder)  # use dump() to write array into file\n",
    "\n",
    "with open ('data_2000_asc.json', 'w') as file:  \n",
    "    file.write(encodedNumpyData)\n",
    "\n",
    "# data_2020_asc=[];\n",
    "# page=0\n",
    "# while(page<14):\n",
    "#     driver.get('https://sales-history-api.services.pwccmarketplace.com/api/v1/sales?title=pokemon&yearMin=2019&yearMax=2019&page='+str(page)+'&size=50&sort=purchasePrice%2Casc')\n",
    "#     time.sleep(1)\n",
    "#     content = driver.find_element(By.TAG_NAME,'pre').text\n",
    "#     parsed_json = json.loads(content)\n",
    "#     data_2020_asc=np.append(data_2020_asc,parsed_json['_embedded']['SalesRecords'])\n",
    "#     page+=1\n",
    "\n",
    "# encodedNumpyData = json.dumps(data_2020_asc, cls=NumpyArrayEncoder)  # use dump() to write array into file\n",
    "\n",
    "# with open ('data_2020_asc.json', 'w') as file:  \n",
    "#     file.write(encodedNumpyData)\n"
   ]
  },
  {
   "cell_type": "code",
   "execution_count": null,
   "id": "cd1f0723",
   "metadata": {},
   "outputs": [],
   "source": []
  }
 ],
 "metadata": {
  "kernelspec": {
   "display_name": "Python 3 (ipykernel)",
   "language": "python",
   "name": "python3"
  },
  "language_info": {
   "codemirror_mode": {
    "name": "ipython",
    "version": 3
   },
   "file_extension": ".py",
   "mimetype": "text/x-python",
   "name": "python",
   "nbconvert_exporter": "python",
   "pygments_lexer": "ipython3",
   "version": "3.10.9"
  }
 },
 "nbformat": 4,
 "nbformat_minor": 5
}
