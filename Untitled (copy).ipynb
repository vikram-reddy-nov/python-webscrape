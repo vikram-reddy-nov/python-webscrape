{
 "cells": [
  {
   "cell_type": "code",
   "execution_count": 5,
   "id": "a04cd5e0",
   "metadata": {},
   "outputs": [],
   "source": [
    "from selenium import webdriver\n",
    "from selenium.webdriver.common.action_chains import ActionChains\n",
    "# from selenium.webdriver.chrome.options import Options as ChromeOptions\n",
    "# from selenium.webdriver.firefox.options import Options as FirefoxOptions\n",
    "# from selenium.webdriver.common.by import By\n",
    "# from selenium.webdriver.common.keys import Keys\n",
    "# from bs4 import BeautifulSoup\n",
    "import time\n",
    "\n",
    "\n",
    "\n"
   ]
  },
  {
   "cell_type": "code",
   "execution_count": 6,
   "id": "21669632",
   "metadata": {},
   "outputs": [
    {
     "name": "stdout",
     "output_type": "stream",
     "text": [
      "reached 1\n",
      "reached 2\n"
     ]
    }
   ],
   "source": [
    "chrome_options = webdriver.ChromeOptions()\n",
    "# chrome_options.add_argument(\"--no-sandbox\")\n",
    "# chrome_options.add_argument(\"--headless\")\n",
    "# chrome_options.add_argument(\"--disable-gpu\")\n",
    "\n",
    "\n",
    "login_url = 'https://sales-history.pwccmarketplace.com/login?title=pokemon'\n",
    "# url = 'https://sales-history.pwccmarketplace.com/?title=pokemon'\n",
    "xpath = '//div[@class=\"custom-x2ftu7\"]'\n",
    "\n",
    "\n",
    "def configure_chrome_driver():\n",
    "#     chrome_options = ChromeOptions()\n",
    "#     chrome_options.add_argument(\"--headless\")\n",
    "#     driver = webdriver.Chrome(executable_path=\"/usr/bin/chromedriver\", options=chrome_options)\n",
    "    \n",
    "    driver = webdriver.Chrome(executable_path=\"/usr/bin/chromedriver\")\n",
    "\n",
    "    return driver\n",
    "\n",
    "driver = configure_chrome_driver()\n",
    "driver.get(login_url)\n",
    "time.sleep(5)\n",
    "\n",
    "driver.find_element_by_id('email').send_keys('vikram.reddy.nov@gmail.com')\n",
    "driver.find_element_by_id('password').send_keys('Vikked007#pwcc')\n",
    "driver.find_element_by_class_name('custom-1ujrmx').click()\n",
    "print('reached 1')\n",
    "time.sleep(10)\n",
    "print('reached 2')\n",
    "driver.get('https://sales-history.pwccmarketplace.com/?title=pokemon'+'&yearMin=2005&yearMax=2005')\n",
    "# driver.find_element_by_xpath(\"//input\").send_keys('pokemon')\n",
    "driver.find_element_by_class_name('chakra-input__left-element').click()\n",
    "\n",
    "# time.sleep(10)\n",
    "# Or, you can also \"scroll into view\" via scrollIntoView():\n",
    "# driver.execute_script(\"arguments[0].scrollIntoView();\", element)\n"
   ]
  },
  {
   "cell_type": "code",
   "execution_count": 7,
   "id": "d385d49e",
   "metadata": {},
   "outputs": [
    {
     "name": "stdout",
     "output_type": "stream",
     "text": [
      "10\n",
      "20\n",
      "30\n",
      "40\n",
      "50\n",
      "60\n",
      "70\n",
      "80\n",
      "90\n",
      "100\n",
      "110\n",
      "120\n",
      "130\n",
      "140\n",
      "150\n",
      "160\n",
      "170\n",
      "180\n"
     ]
    },
    {
     "ename": "NoSuchElementException",
     "evalue": "Message: no such element: Unable to locate element: {\"method\":\"class name\",\"selector\":\"custom-1l4w6pd\"}\n  (Session info: chrome=109.0.5414.119)\n  (Driver info: chromedriver=2.41.578700 (2f1ed5f9343c13f73144538f15c00b370eda6706),platform=Linux 5.15.0-58-generic x86_64)\n",
     "output_type": "error",
     "traceback": [
      "\u001b[0;31m---------------------------------------------------------------------------\u001b[0m",
      "\u001b[0;31mNoSuchElementException\u001b[0m                    Traceback (most recent call last)",
      "Cell \u001b[0;32mIn[7], line 9\u001b[0m\n\u001b[1;32m      7\u001b[0m     time\u001b[38;5;241m.\u001b[39msleep(\u001b[38;5;241m5\u001b[39m)\n\u001b[1;32m      8\u001b[0m \u001b[38;5;66;03m#     i = len(pokemons)\u001b[39;00m\n\u001b[0;32m----> 9\u001b[0m     element \u001b[38;5;241m=\u001b[39m \u001b[43mdriver\u001b[49m\u001b[38;5;241;43m.\u001b[39;49m\u001b[43mfind_element_by_class_name\u001b[49m\u001b[43m(\u001b[49m\u001b[38;5;124;43m\"\u001b[39;49m\u001b[38;5;124;43mcustom-1l4w6pd\u001b[39;49m\u001b[38;5;124;43m\"\u001b[39;49m\u001b[43m)\u001b[49m\n\u001b[1;32m     10\u001b[0m     actions \u001b[38;5;241m=\u001b[39m ActionChains(driver)\n\u001b[1;32m     11\u001b[0m     actions\u001b[38;5;241m.\u001b[39mmove_to_element(element)\u001b[38;5;241m.\u001b[39mperform()\n",
      "File \u001b[0;32m~/anaconda3/envs/pp/lib/python3.10/site-packages/selenium/webdriver/remote/webdriver.py:564\u001b[0m, in \u001b[0;36mWebDriver.find_element_by_class_name\u001b[0;34m(self, name)\u001b[0m\n\u001b[1;32m    548\u001b[0m \u001b[38;5;28;01mdef\u001b[39;00m \u001b[38;5;21mfind_element_by_class_name\u001b[39m(\u001b[38;5;28mself\u001b[39m, name):\n\u001b[1;32m    549\u001b[0m     \u001b[38;5;124;03m\"\"\"\u001b[39;00m\n\u001b[1;32m    550\u001b[0m \u001b[38;5;124;03m    Finds an element by class name.\u001b[39;00m\n\u001b[1;32m    551\u001b[0m \n\u001b[0;32m   (...)\u001b[0m\n\u001b[1;32m    562\u001b[0m \u001b[38;5;124;03m        element = driver.find_element_by_class_name('foo')\u001b[39;00m\n\u001b[1;32m    563\u001b[0m \u001b[38;5;124;03m    \"\"\"\u001b[39;00m\n\u001b[0;32m--> 564\u001b[0m     \u001b[38;5;28;01mreturn\u001b[39;00m \u001b[38;5;28;43mself\u001b[39;49m\u001b[38;5;241;43m.\u001b[39;49m\u001b[43mfind_element\u001b[49m\u001b[43m(\u001b[49m\u001b[43mby\u001b[49m\u001b[38;5;241;43m=\u001b[39;49m\u001b[43mBy\u001b[49m\u001b[38;5;241;43m.\u001b[39;49m\u001b[43mCLASS_NAME\u001b[49m\u001b[43m,\u001b[49m\u001b[43m \u001b[49m\u001b[43mvalue\u001b[49m\u001b[38;5;241;43m=\u001b[39;49m\u001b[43mname\u001b[49m\u001b[43m)\u001b[49m\n",
      "File \u001b[0;32m~/anaconda3/envs/pp/lib/python3.10/site-packages/selenium/webdriver/remote/webdriver.py:976\u001b[0m, in \u001b[0;36mWebDriver.find_element\u001b[0;34m(self, by, value)\u001b[0m\n\u001b[1;32m    974\u001b[0m         by \u001b[38;5;241m=\u001b[39m By\u001b[38;5;241m.\u001b[39mCSS_SELECTOR\n\u001b[1;32m    975\u001b[0m         value \u001b[38;5;241m=\u001b[39m \u001b[38;5;124m'\u001b[39m\u001b[38;5;124m[name=\u001b[39m\u001b[38;5;124m\"\u001b[39m\u001b[38;5;132;01m%s\u001b[39;00m\u001b[38;5;124m\"\u001b[39m\u001b[38;5;124m]\u001b[39m\u001b[38;5;124m'\u001b[39m \u001b[38;5;241m%\u001b[39m value\n\u001b[0;32m--> 976\u001b[0m \u001b[38;5;28;01mreturn\u001b[39;00m \u001b[38;5;28;43mself\u001b[39;49m\u001b[38;5;241;43m.\u001b[39;49m\u001b[43mexecute\u001b[49m\u001b[43m(\u001b[49m\u001b[43mCommand\u001b[49m\u001b[38;5;241;43m.\u001b[39;49m\u001b[43mFIND_ELEMENT\u001b[49m\u001b[43m,\u001b[49m\u001b[43m \u001b[49m\u001b[43m{\u001b[49m\n\u001b[1;32m    977\u001b[0m \u001b[43m    \u001b[49m\u001b[38;5;124;43m'\u001b[39;49m\u001b[38;5;124;43musing\u001b[39;49m\u001b[38;5;124;43m'\u001b[39;49m\u001b[43m:\u001b[49m\u001b[43m \u001b[49m\u001b[43mby\u001b[49m\u001b[43m,\u001b[49m\n\u001b[1;32m    978\u001b[0m \u001b[43m    \u001b[49m\u001b[38;5;124;43m'\u001b[39;49m\u001b[38;5;124;43mvalue\u001b[39;49m\u001b[38;5;124;43m'\u001b[39;49m\u001b[43m:\u001b[49m\u001b[43m \u001b[49m\u001b[43mvalue\u001b[49m\u001b[43m}\u001b[49m\u001b[43m)\u001b[49m[\u001b[38;5;124m'\u001b[39m\u001b[38;5;124mvalue\u001b[39m\u001b[38;5;124m'\u001b[39m]\n",
      "File \u001b[0;32m~/anaconda3/envs/pp/lib/python3.10/site-packages/selenium/webdriver/remote/webdriver.py:321\u001b[0m, in \u001b[0;36mWebDriver.execute\u001b[0;34m(self, driver_command, params)\u001b[0m\n\u001b[1;32m    319\u001b[0m response \u001b[38;5;241m=\u001b[39m \u001b[38;5;28mself\u001b[39m\u001b[38;5;241m.\u001b[39mcommand_executor\u001b[38;5;241m.\u001b[39mexecute(driver_command, params)\n\u001b[1;32m    320\u001b[0m \u001b[38;5;28;01mif\u001b[39;00m response:\n\u001b[0;32m--> 321\u001b[0m     \u001b[38;5;28;43mself\u001b[39;49m\u001b[38;5;241;43m.\u001b[39;49m\u001b[43merror_handler\u001b[49m\u001b[38;5;241;43m.\u001b[39;49m\u001b[43mcheck_response\u001b[49m\u001b[43m(\u001b[49m\u001b[43mresponse\u001b[49m\u001b[43m)\u001b[49m\n\u001b[1;32m    322\u001b[0m     response[\u001b[38;5;124m'\u001b[39m\u001b[38;5;124mvalue\u001b[39m\u001b[38;5;124m'\u001b[39m] \u001b[38;5;241m=\u001b[39m \u001b[38;5;28mself\u001b[39m\u001b[38;5;241m.\u001b[39m_unwrap_value(\n\u001b[1;32m    323\u001b[0m         response\u001b[38;5;241m.\u001b[39mget(\u001b[38;5;124m'\u001b[39m\u001b[38;5;124mvalue\u001b[39m\u001b[38;5;124m'\u001b[39m, \u001b[38;5;28;01mNone\u001b[39;00m))\n\u001b[1;32m    324\u001b[0m     \u001b[38;5;28;01mreturn\u001b[39;00m response\n",
      "File \u001b[0;32m~/anaconda3/envs/pp/lib/python3.10/site-packages/selenium/webdriver/remote/errorhandler.py:242\u001b[0m, in \u001b[0;36mErrorHandler.check_response\u001b[0;34m(self, response)\u001b[0m\n\u001b[1;32m    240\u001b[0m         alert_text \u001b[38;5;241m=\u001b[39m value[\u001b[38;5;124m'\u001b[39m\u001b[38;5;124malert\u001b[39m\u001b[38;5;124m'\u001b[39m]\u001b[38;5;241m.\u001b[39mget(\u001b[38;5;124m'\u001b[39m\u001b[38;5;124mtext\u001b[39m\u001b[38;5;124m'\u001b[39m)\n\u001b[1;32m    241\u001b[0m     \u001b[38;5;28;01mraise\u001b[39;00m exception_class(message, screen, stacktrace, alert_text)\n\u001b[0;32m--> 242\u001b[0m \u001b[38;5;28;01mraise\u001b[39;00m exception_class(message, screen, stacktrace)\n",
      "\u001b[0;31mNoSuchElementException\u001b[0m: Message: no such element: Unable to locate element: {\"method\":\"class name\",\"selector\":\"custom-1l4w6pd\"}\n  (Session info: chrome=109.0.5414.119)\n  (Driver info: chromedriver=2.41.578700 (2f1ed5f9343c13f73144538f15c00b370eda6706),platform=Linux 5.15.0-58-generic x86_64)\n"
     ]
    }
   ],
   "source": [
    "i=1\n",
    "while(True):\n",
    "#     pokemons = driver.find_elements_by_xpath('//div[@class=\"custom-x2ftu7\"]')\n",
    "    if i%10 == 0:\n",
    "        print(i)\n",
    "#     print(len(pokemons))\n",
    "    time.sleep(5)\n",
    "#     i = len(pokemons)\n",
    "    element = driver.find_element_by_class_name(\"custom-1l4w6pd\")\n",
    "    actions = ActionChains(driver)\n",
    "    actions.move_to_element(element).perform()\n",
    "    i+=1"
   ]
  },
  {
   "cell_type": "code",
   "execution_count": null,
   "id": "1da78fd4",
   "metadata": {},
   "outputs": [
    {
     "name": "stdout",
     "output_type": "stream",
     "text": [
      "4403\n",
      "0\n",
      "100\n",
      "200\n",
      "300\n",
      "400\n",
      "500\n",
      "600\n",
      "700\n",
      "800\n",
      "900\n",
      "1000\n",
      "1100\n",
      "1200\n",
      "1300\n",
      "1400\n",
      "1500\n",
      "1600\n",
      "1700\n",
      "1800\n",
      "1900\n",
      "2000\n",
      "2100\n",
      "2200\n",
      "2300\n",
      "2400\n",
      "2500\n",
      "2600\n",
      "2700\n",
      "2800\n",
      "2900\n",
      "3000\n",
      "3100\n",
      "3200\n",
      "3300\n",
      "3400\n",
      "3500\n",
      "3600\n",
      "3700\n",
      "3800\n",
      "3900\n",
      "4000\n",
      "4100\n",
      "4200\n",
      "4300\n"
     ]
    }
   ],
   "source": [
    "save_data = []\n",
    "pokemons = driver.find_elements_by_xpath('//div[@class=\"custom-x2ftu7\"]')\n",
    "print(len(pokemons))\n",
    "\n",
    "for idx, pokemon in enumerate(pokemons):\n",
    "    \n",
    "    if idx%100 == 0:\n",
    "        print(idx)\n",
    "#     else:\n",
    "#         print (“The number is not divisible.”)\n",
    "    \n",
    "# for pokemon in pokemons:\n",
    "#     print(person)\n",
    "    title = pokemon.find_element_by_class_name('custom-y4x9ed').text\n",
    "    sold_date = pokemon.find_element_by_class_name('custom-1aq0h2g').text\n",
    "    sold_price = pokemon.find_element_by_class_name('custom-1iomzz5').text\n",
    "    auction_type = pokemon.find_element_by_class_name('custom-1ousq9y').text\n",
    "    payment_status = pokemon.find_element_by_class_name('custom-uazy06').text\n",
    "    buyers_premium = pokemon.find_element_by_class_name('custom-yvdzps').text\n",
    "    pokemon_url = pokemon.find_elements_by_tag_name('a')[0].get_attribute('href')\n",
    "    each_obj = {'title':title,'sold_date':sold_date, 'sold_price':sold_price, 'auction_type':auction_type,'payment_status':payment_status,'buyers_premium':buyers_premium,'pokemon_url':pokemon_url}\n",
    "    save_data.append(each_obj)\n",
    "\n",
    "    \n",
    "import json\n",
    "with open ('2003.json', 'w') as file:  \n",
    "    file.write(json.dumps(save_data))    \n",
    "    \n",
    "#     each url image  ===> custom-57bysn\n",
    "    \n",
    "    "
   ]
  },
  {
   "cell_type": "code",
   "execution_count": 20,
   "id": "3ea0d2b5",
   "metadata": {},
   "outputs": [],
   "source": [
    "      \n",
    "# custom-yh7ez3 submit to vault\n",
    "# custom-c7pjya custom-1lekzkb results/ total items \n",
    "# custom-wcpte5 custom-1l4wnnh  custom-qvyzsn custom-x2ftu7 pokemon list in this\n",
    "# custom-1l4w6pd div next to pokemon list (loading)\n",
    "# https://www.scrapingbee.com/blog/download-image-python/#:~:text=Many%20developers%20consider%20it%20a,any%20file%20type%20in%20Python.&text=Once%20you've%20imported%20those,asking%20for%20the%20image%20URL.&text=In%20the%20next%20line%20of,module%20to%20retrieve%20the%20image."
   ]
  },
  {
   "cell_type": "code",
   "execution_count": null,
   "id": "fc83a020",
   "metadata": {},
   "outputs": [],
   "source": []
  }
 ],
 "metadata": {
  "kernelspec": {
   "display_name": "Python 3 (ipykernel)",
   "language": "python",
   "name": "python3"
  },
  "language_info": {
   "codemirror_mode": {
    "name": "ipython",
    "version": 3
   },
   "file_extension": ".py",
   "mimetype": "text/x-python",
   "name": "python",
   "nbconvert_exporter": "python",
   "pygments_lexer": "ipython3",
   "version": "3.10.9"
  }
 },
 "nbformat": 4,
 "nbformat_minor": 5
}
